{
 "cells": [
  {
   "cell_type": "code",
   "execution_count": 19,
   "id": "06846ad4-ece3-4256-a751-06ee9a53899a",
   "metadata": {},
   "outputs": [],
   "source": [
    "import keyoscacquire as koa\n",
    "import numpy as np\n",
    "import matplotlib\n",
    "import pyvisa\n",
    "import glob\n",
    "import scipy.fft as fft\n",
    "import keyoscacquire.oscilloscope as scope"
   ]
  },
  {
   "cell_type": "code",
   "execution_count": 20,
   "id": "32ea4ade-874a-46ed-8517-f67689bd56a1",
   "metadata": {},
   "outputs": [
    {
     "name": "stdout",
     "output_type": "stream",
     "text": [
      "KEYSIGHT TECHNOLOGIES,DSO-X 1102A,CN58284153,01.01.2016092800\n",
      "\n"
     ]
    }
   ],
   "source": [
    "rm = pyvisa.ResourceManager() #Test de connection\n",
    "rm.list_resources()\n",
    "\n",
    "oscope = rm.open_resource('USB0::0x2A8D::0x1787::CN58284153::0::INSTR')\n",
    "\n",
    "print(oscope.query('*IDN?'))\n"
   ]
  },
  {
   "cell_type": "code",
   "execution_count": 21,
   "id": "03ac796c-a066-416a-9f48-7af8ac2c2a64",
   "metadata": {},
   "outputs": [],
   "source": [
    "def prise(channel,nom,direct,nprise=1): #prend n prise mesure single\n",
    "    koa.oscilloscope.os.chdir(direct) #Direct est le fichier ou tu veux mettre tes données\n",
    "    nam=str(nom)\n",
    "    for i in range(nprise):\n",
    "        koa.programmes.get_single_trace(fname=nam+str(i),channels=[channel])\n",
    "    return(\"Fait\")\n",
    "   \n",
    "\n",
    "def prisemul(channel,nom,direct,nprise=1,aver=2): #prend n prise mesure single\n",
    "    koa.oscilloscope.os.chdir(direct) #Direct est le fichier ou tu veux mettre tes données\n",
    "    nam=str(nom)\n",
    "    koa.programmes.get_num_traces(fname=nam,num=nprise,channels=channel,acq_type='AVER{}'.format(aver))\n",
    "    return(\"Fait\")"
   ]
  },
  {
   "cell_type": "code",
   "execution_count": 28,
   "id": "6f375e27-3d40-4e06-b204-f66d991286d9",
   "metadata": {},
   "outputs": [
    {
     "name": "stderr",
     "output_type": "stream",
     "text": [
      "  0%|          | 0/1 [00:00<?, ?it/s]"
     ]
    },
    {
     "name": "stdout",
     "output_type": "stream",
     "text": [
      "Connected to:\n",
      "  KEYSIGHT TECHNOLOGIES\n",
      "  DSO-X 1102A (serial CN58284153)\n",
      "Acquisition type: AVER\n",
      "# of averages:    16\n",
      "From channels:    [1]\n"
     ]
    },
    {
     "name": "stderr",
     "output_type": "stream",
     "text": [
      "100%|██████████| 1/1 [00:20<00:00, 20.27s/it]"
     ]
    },
    {
     "name": "stdout",
     "output_type": "stream",
     "text": [
      "Done\n"
     ]
    },
    {
     "name": "stderr",
     "output_type": "stream",
     "text": [
      "\n"
     ]
    },
    {
     "data": {
      "text/plain": [
       "'Fait'"
      ]
     },
     "execution_count": 28,
     "metadata": {},
     "output_type": "execute_result"
    }
   ],
   "source": [
    "prisemul([1],\"7cm\",\"C:/Users/efrem/ICC/1M/Hauteur/Mesures\",nprise=1,aver=16) #check channel"
   ]
  },
  {
   "cell_type": "code",
   "execution_count": null,
   "id": "f261b912-2b73-4ed6-976e-f4cc52c273ad",
   "metadata": {},
   "outputs": [],
   "source": []
  },
  {
   "cell_type": "code",
   "execution_count": null,
   "id": "6b91376f-4365-4d41-9b2c-00725accf18f",
   "metadata": {},
   "outputs": [],
   "source": []
  }
 ],
 "metadata": {
  "kernelspec": {
   "display_name": "Python 3",
   "language": "python",
   "name": "python3"
  },
  "language_info": {
   "codemirror_mode": {
    "name": "ipython",
    "version": 3
   },
   "file_extension": ".py",
   "mimetype": "text/x-python",
   "name": "python",
   "nbconvert_exporter": "python",
   "pygments_lexer": "ipython3",
   "version": "3.8.8"
  }
 },
 "nbformat": 4,
 "nbformat_minor": 5
}
